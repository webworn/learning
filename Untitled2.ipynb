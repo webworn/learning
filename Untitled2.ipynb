{
  "nbformat": 4,
  "nbformat_minor": 0,
  "metadata": {
    "colab": {
      "name": "Untitled2.ipynb",
      "provenance": []
    },
    "kernelspec": {
      "name": "python3",
      "display_name": "Python 3"
    },
    "language_info": {
      "name": "python"
    }
  },
  "cells": [
    {
      "cell_type": "markdown",
      "source": [
        "<h1>My Jupyter Notebook on IBM Watson Studio</h1>"
      ],
      "metadata": {
        "id": "v32gatb9jXjo"
      }
    },
    {
      "cell_type": "markdown",
      "source": [
        "<b>Manish Kumawat</b><br>\n",
        "I'm a production engineer in fabrication Industry which work for **JCB India**"
      ],
      "metadata": {
        "id": "9YG_VvxYjiru"
      }
    },
    {
      "cell_type": "markdown",
      "source": [
        "*I am interested in data science because want to create ML base Quality inspection service for manufacturing industies*"
      ],
      "metadata": {
        "id": "iNf49G4MkYR4"
      }
    },
    {
      "cell_type": "markdown",
      "source": [
        "<h3>This code extract float(numeric) value from String Statement</h3>\n"
      ],
      "metadata": {
        "id": "aJzXSAmekxEk"
      }
    },
    {
      "cell_type": "code",
      "source": [
        "##Importing re\n",
        "\n",
        "import re\n",
        "Statement= \"i want 2 pencils 3 pens\"\n",
        "df=re.findall(r\"[-+]?(?:\\d*\\.\\d+|\\d+)\", Statement)"
      ],
      "metadata": {
        "id": "TzPncTM4oJxC"
      },
      "execution_count": 2,
      "outputs": []
    },
    {
      "cell_type": "code",
      "source": [
        "print(df)"
      ],
      "metadata": {
        "colab": {
          "base_uri": "https://localhost:8080/"
        },
        "id": "aa5XdwR7opp_",
        "outputId": "c1b088d3-bd0c-4835-a456-9557b8bfa698"
      },
      "execution_count": 4,
      "outputs": [
        {
          "output_type": "stream",
          "name": "stdout",
          "text": [
            "['2', '3']\n"
          ]
        }
      ]
    },
    {
      "cell_type": "code",
      "source": [
        "print('Number of Pensils:'+df[0]+\" and \"+'Number of Pens:'+df[1])"
      ],
      "metadata": {
        "colab": {
          "base_uri": "https://localhost:8080/"
        },
        "id": "hxup1DGupA7a",
        "outputId": "0412740c-a78d-4c1a-ad2a-5acb1821480e"
      },
      "execution_count": 5,
      "outputs": [
        {
          "output_type": "stream",
          "name": "stdout",
          "text": [
            "Number of Pensils:2 and Number of Pens:3\n"
          ]
        }
      ]
    }
  ]
}